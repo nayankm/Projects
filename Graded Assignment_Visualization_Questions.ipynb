{
 "cells": [
  {
   "cell_type": "code",
   "execution_count": 1,
   "id": "f3e40466",
   "metadata": {},
   "outputs": [],
   "source": [
    "import seaborn as sns\n",
    "import pandas as pd\n",
    "import numpy as np\n",
    "import matplotlib.pyplot as plt"
   ]
  },
  {
   "cell_type": "code",
   "execution_count": null,
   "id": "fa9182d1",
   "metadata": {},
   "outputs": [],
   "source": [
    "#Read the dataset\n",
    "df = sns.load_dataset('tips')\n",
    "df.head() "
   ]
  },
  {
   "cell_type": "markdown",
   "id": "d949af5d",
   "metadata": {},
   "source": [
    "#### 1.Create a Line Plot with x (‘total_bill’) versus y (‘tip’) using lineplot() function:"
   ]
  },
  {
   "cell_type": "code",
   "execution_count": null,
   "id": "404517d1",
   "metadata": {},
   "outputs": [],
   "source": [
    "sns.lineplot(x='total_bill', y='tip', data=df)\n",
    "plt.show()"
   ]
  },
  {
   "cell_type": "markdown",
   "id": "f7ac9264",
   "metadata": {},
   "source": [
    "#### 2.Create a scatter plot with total_bill and tip "
   ]
  },
  {
   "cell_type": "code",
   "execution_count": null,
   "id": "0329065f",
   "metadata": {},
   "outputs": [],
   "source": [
    "sns.scatterplot(x='total_bill',y='tip',data=df)\n",
    "plt.show()"
   ]
  },
  {
   "cell_type": "markdown",
   "id": "2ed7c386",
   "metadata": {},
   "source": [
    "#### 3.Write a python code to create a hist plot on total_bill with bins=10.\n",
    "- Create the following \n",
    "-Title as \"Frequency of Bill Amount\"\n",
    "-xlabel as \"Billed Amount\"\n",
    "-ylabel as \"Count\""
   ]
  },
  {
   "cell_type": "code",
   "execution_count": null,
   "id": "8edf407d",
   "metadata": {},
   "outputs": [],
   "source": [
    "sns.histplot(data=df, x=\"total_bill\", bins=10).set(\n",
    "    title=\"Frequency of Bill Amount\", xlabel=\"Billed Amount\", ylabel=\"Count\")"
   ]
  },
  {
   "cell_type": "markdown",
   "id": "e1ac5ec3",
   "metadata": {},
   "source": [
    "## 4.Write a python code to create a heatmap on tips dataset by showing the corelation between numeric attributes "
   ]
  },
  {
   "cell_type": "code",
   "execution_count": null,
   "id": "b3dc2112",
   "metadata": {},
   "outputs": [],
   "source": [
    "sns.heatmap(df.corr())"
   ]
  },
  {
   "cell_type": "markdown",
   "id": "21cd3bf9",
   "metadata": {},
   "source": [
    "#### 5.Write a python code to create a barplot on smoker and total_bill attribute"
   ]
  },
  {
   "cell_type": "code",
   "execution_count": null,
   "id": "6985fd3b",
   "metadata": {},
   "outputs": [],
   "source": [
    "sns.barplot(x='smoker', y='total_bill', data=df)\n",
    "plt.show()"
   ]
  },
  {
   "cell_type": "markdown",
   "id": "51c4ad2a",
   "metadata": {},
   "source": [
    "#### 6.Write a python code to use the countplot() function to show the count of smokers and non-smokers:"
   ]
  },
  {
   "cell_type": "code",
   "execution_count": null,
   "id": "a63ec5a1",
   "metadata": {},
   "outputs": [],
   "source": [
    "sns.countplot(x='smoker', data=df)\n",
    "plt.show()"
   ]
  },
  {
   "cell_type": "markdown",
   "id": "0c136899",
   "metadata": {},
   "source": [
    "#### 7.Let’s write a python code to analyze how the tipped amount varies during lunch and dinner time and if there are any outliers in our data. Hint :(Boxplot)"
   ]
  },
  {
   "cell_type": "code",
   "execution_count": null,
   "id": "e76f6795",
   "metadata": {},
   "outputs": [],
   "source": [
    "sns.boxplot(x='time', y='tip', data=df)\n",
    "plt.show()"
   ]
  },
  {
   "cell_type": "markdown",
   "id": "44b0b831",
   "metadata": {},
   "source": [
    "#### 8.Let’s write a python code to create a pair plot to show the pair wise distribution of all attributes"
   ]
  },
  {
   "cell_type": "code",
   "execution_count": null,
   "id": "21b96e60",
   "metadata": {},
   "outputs": [],
   "source": [
    "sns.pairplot(df, hue='time')\n",
    "sns.pairplot(df, hue='sex')\n",
    "sns.pairplot(df, hue='smoker')\n",
    "sns.pairplot(df, hue='day')\n",
    "plt.show()"
   ]
  },
  {
   "cell_type": "code",
   "execution_count": null,
   "id": "059de928",
   "metadata": {},
   "outputs": [],
   "source": [
    "**********************************THE END*************************"
   ]
  }
 ],
 "metadata": {
  "kernelspec": {
   "display_name": "Python 3 (ipykernel)",
   "language": "python",
   "name": "python3"
  },
  "language_info": {
   "codemirror_mode": {
    "name": "ipython",
    "version": 3
   },
   "file_extension": ".py",
   "mimetype": "text/x-python",
   "name": "python",
   "nbconvert_exporter": "python",
   "pygments_lexer": "ipython3",
   "version": "3.9.13"
  }
 },
 "nbformat": 4,
 "nbformat_minor": 5
}
