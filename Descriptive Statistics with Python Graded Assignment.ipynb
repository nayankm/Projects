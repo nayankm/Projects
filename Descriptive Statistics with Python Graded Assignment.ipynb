{
 "cells": [
  {
   "cell_type": "code",
   "execution_count": 50,
   "id": "72cff41f",
   "metadata": {},
   "outputs": [],
   "source": [
    "#Importing the necessary libraries\n",
    "import pandas as pd\n",
    "import numpy as np\n",
    "import scipy.stats as stats\n",
    "import matplotlib.pyplot as plt"
   ]
  },
  {
   "cell_type": "markdown",
   "id": "b7af4601",
   "metadata": {},
   "source": [
    "## Section 1"
   ]
  },
  {
   "cell_type": "markdown",
   "id": "e8556845",
   "metadata": {},
   "source": [
    "1. The average selling price of a food item in a restaurant is Rs 250.00 and the standard deviation of the price is Rs 47.00. The median value is an indication of the central value of the data and is close to the mean of Rs 202.00. If you know these details, will you become a regular customer of the restaurant?"
   ]
  },
  {
   "cell_type": "markdown",
   "id": "028fb003",
   "metadata": {},
   "source": [
    "The data infered from selling price of a food in a restaurant as follows:\n",
    "    mean   = 250\n",
    "    median = 202\n",
    "    std    = 47\n",
    "Here, the mean > median that shows the distribution is right skewed(positively skewed) and mode <= median as standard deviation is 47. Most selling price of a food in the resturant is less than Rs.202 and may be plently available at any point of time to meet the demand. The price is economical and would like to be a regular customer."
   ]
  },
  {
   "cell_type": "markdown",
   "id": "234a5a22",
   "metadata": {},
   "source": [
    "2. In a residential locality, the average size of a house is 2224 square feet with a standard deviation of 248 square feet which indicates that the distribution of size is fairly the same across the data and the median value of the house is 2220 square feet. Does the locality have bigger or smaller-sized houses?"
   ]
  },
  {
   "cell_type": "code",
   "execution_count": null,
   "id": "161fae9b",
   "metadata": {},
   "outputs": [],
   "source": [
    "The average size of a house is 2224 sqft\n",
    "The median value of the house is 2220 sqft\n",
    "Standard deviation is of 248 sqft\n",
    "From the above details it shows the distribution of houses size is mostly same as mean and median are almost same.\n",
    "68% of houses size are between 1976-2472 sqft (i.e., 1 std of the mean)\n",
    "95% of houses size are between 1728-2720 sqft (i.e., 2 std of the mean)\n",
    "99.7 % of houses size are between 1480-2968 sqft (i.e., 3 std of the mean)\n",
    "The locality have 0.3% bigger(more than 3000 sqft) or smaller(less than 1400 sqft)-sized houses."
   ]
  },
  {
   "cell_type": "markdown",
   "id": "9e1dffd1",
   "metadata": {},
   "source": [
    "3. You want to invest in real estate, and you have the data belonging to locality X and Y. Some of the house prices in locality X are 2.00 L,10.00 L, 8.00 L, and 12.00 L and the prices of houses in Y are 2.5 L, 9.50 L, 8.15 L, and 12.50 L. Conduct a statistical measure to decide which locality is best for investment."
   ]
  },
  {
   "cell_type": "code",
   "execution_count": 22,
   "id": "db26e877",
   "metadata": {},
   "outputs": [
    {
     "data": {
      "text/html": [
       "<div>\n",
       "<style scoped>\n",
       "    .dataframe tbody tr th:only-of-type {\n",
       "        vertical-align: middle;\n",
       "    }\n",
       "\n",
       "    .dataframe tbody tr th {\n",
       "        vertical-align: top;\n",
       "    }\n",
       "\n",
       "    .dataframe thead th {\n",
       "        text-align: right;\n",
       "    }\n",
       "</style>\n",
       "<table border=\"1\" class=\"dataframe\">\n",
       "  <thead>\n",
       "    <tr style=\"text-align: right;\">\n",
       "      <th></th>\n",
       "      <th>x</th>\n",
       "      <th>y</th>\n",
       "    </tr>\n",
       "  </thead>\n",
       "  <tbody>\n",
       "    <tr>\n",
       "      <th>count</th>\n",
       "      <td>4.000000</td>\n",
       "      <td>4.000000</td>\n",
       "    </tr>\n",
       "    <tr>\n",
       "      <th>mean</th>\n",
       "      <td>8.000000</td>\n",
       "      <td>8.162500</td>\n",
       "    </tr>\n",
       "    <tr>\n",
       "      <th>std</th>\n",
       "      <td>4.320494</td>\n",
       "      <td>4.189943</td>\n",
       "    </tr>\n",
       "    <tr>\n",
       "      <th>min</th>\n",
       "      <td>2.000000</td>\n",
       "      <td>2.500000</td>\n",
       "    </tr>\n",
       "    <tr>\n",
       "      <th>25%</th>\n",
       "      <td>6.500000</td>\n",
       "      <td>6.737500</td>\n",
       "    </tr>\n",
       "    <tr>\n",
       "      <th>50%</th>\n",
       "      <td>9.000000</td>\n",
       "      <td>8.825000</td>\n",
       "    </tr>\n",
       "    <tr>\n",
       "      <th>75%</th>\n",
       "      <td>10.500000</td>\n",
       "      <td>10.250000</td>\n",
       "    </tr>\n",
       "    <tr>\n",
       "      <th>max</th>\n",
       "      <td>12.000000</td>\n",
       "      <td>12.500000</td>\n",
       "    </tr>\n",
       "  </tbody>\n",
       "</table>\n",
       "</div>"
      ],
      "text/plain": [
       "               x          y\n",
       "count   4.000000   4.000000\n",
       "mean    8.000000   8.162500\n",
       "std     4.320494   4.189943\n",
       "min     2.000000   2.500000\n",
       "25%     6.500000   6.737500\n",
       "50%     9.000000   8.825000\n",
       "75%    10.500000  10.250000\n",
       "max    12.000000  12.500000"
      ]
     },
     "execution_count": 22,
     "metadata": {},
     "output_type": "execute_result"
    }
   ],
   "source": [
    "data = {\n",
    "    'x' : [2.00,10.00,8.00,12.00],\n",
    "    'y' : [2.5,9.50,8.15,12.50],\n",
    "    }\n",
    "prices = pd.DataFrame(data)\n",
    "prices.describe()"
   ]
  },
  {
   "cell_type": "code",
   "execution_count": 52,
   "id": "5d61c6a9",
   "metadata": {},
   "outputs": [
    {
     "data": {
      "text/plain": [
       "x   -1.190340\n",
       "y   -0.884247\n",
       "dtype: float64"
      ]
     },
     "execution_count": 52,
     "metadata": {},
     "output_type": "execute_result"
    }
   ],
   "source": [
    "pd.DataFrame(data).skew() # X and Y locations are negatively skewed. Y < X in skewness."
   ]
  },
  {
   "cell_type": "code",
   "execution_count": null,
   "id": "f7a0a818",
   "metadata": {},
   "outputs": [],
   "source": [
    "The statistical measures shows location Y is best for investment.\n",
    "Location Y mean is higher and standard deviation is lower compare to Location X.\n",
    "The price of the Location Y will vary less due to lower skewness compare to Location X.\n",
    "Further, selling price of house won't vary much as Location Y has even pricing, almost same across the location and will increase with time. "
   ]
  },
  {
   "cell_type": "markdown",
   "id": "33201a4f",
   "metadata": {},
   "source": [
    "4. During a survey, the ages of 80 patients, infected by COVID and admitted to one of the city hospitals, were recorded. The collected data is represented in the less-than-cumulative frequency distribution table. Read the questions below the table and provide your answers.\n",
    "Age (in yrs.) No. of Patients\n",
    "5 - 15        6 \n",
    "15 - 25       11 \n",
    "25 - 35       21 \n",
    "35 - 45       23 \n",
    "45 - 55       14 \n",
    "55 - 65       5\n",
    "a. Which class interval has the highest frequency?\n",
    "b. Which age was affected the least?\n",
    "c. How many patients of age 45 years and above were admitted?\n",
    "d. Which is the modal class interval in the above dataset?\n",
    "e. What is the median class interval of age?"
   ]
  },
  {
   "cell_type": "code",
   "execution_count": null,
   "id": "5a6b7e86",
   "metadata": {},
   "outputs": [],
   "source": [
    "a. Since, the highest frequency is 23 which belongs to 35 - 45 Age interval.\n",
    "\n",
    "b. 5 is the least no. of patients belong to 55 - 65 Age interval.\n",
    "\n",
    "c. 19 which is sum total of no. of patients in 45 - 55 and 55 - 65 Age interval.\n",
    "\n",
    "d. Mode of class interval of age:\n",
    "\n",
    "    Mode = L + ((f1-f0)/(2f1-f0-f2))* h\n",
    "    L= lower limit of modal class = 35\n",
    "    f1= frequency of the modal class = 23\n",
    "    f0= frequency of class preceeding the modal class = 21\n",
    "    f2= frequency of the class succedding the modal class = 14\n",
    "    h= size of class interval = 10\n",
    "\n",
    "   Mode = 35 + ((23-21)/(2*23-21-14))*10 = 36.8181\n",
    "   Hence, modal class interval is 35-45\n",
    "\n",
    "e. Median of class interval of age:\n",
    "\n",
    "    median = L + ((n/2 - cf)/f) * h\n",
    "    L= lower limit of median class = 35\n",
    "    n= Total frequency = 80\n",
    "    cf= Cumulative frequency of the class preceding the median class = 38\n",
    "    f= Frequency of the median class = 23\n",
    "    h= class length of median class = 10\n",
    "    median = 35 +((80/2 - 38)/23) * 10 = 35.87 \n",
    "   Hence, median class interval of age is 35-45"
   ]
  },
  {
   "cell_type": "markdown",
   "id": "91606d0a",
   "metadata": {},
   "source": [
    "5. Assume, you are a trader and have invested over the years for your retirement. Lately, with the fluctuating economical condition, you are worried about the average return on investment. What average method is appropriate to compute the average return for the data given in the table?\n",
    "Year Return Asset Price \n",
    "2015  36%   5000 \n",
    "2016  23%   6400 \n",
    "2017 -48%   7890\n",
    "2018 -30%   9023 \n",
    "2019  15%   4567 \n",
    "2020  31%   3890"
   ]
  },
  {
   "cell_type": "code",
   "execution_count": null,
   "id": "d730c9d7",
   "metadata": {},
   "outputs": [],
   "source": [
    "ROI = Net Income/Investment\n",
    "Average Retrun on Investment = Sum of Return percent booked year on / Number of years\n",
    "Avg of ROI = (36+23-48-30+15+31)/6 = 4.5"
   ]
  },
  {
   "cell_type": "code",
   "execution_count": 40,
   "id": "ef0b3b71",
   "metadata": {},
   "outputs": [
    {
     "data": {
      "text/plain": [
       "4.5"
      ]
     },
     "execution_count": 40,
     "metadata": {},
     "output_type": "execute_result"
    }
   ],
   "source": [
    "ROI = [36,23,-48,-30,15,31]\n",
    "np.mean(ROI)"
   ]
  },
  {
   "cell_type": "markdown",
   "id": "7fc973e9",
   "metadata": {},
   "source": [
    "6. Suppose you have been told to measure the height of all men on the earth. What strategy would you use?"
   ]
  },
  {
   "cell_type": "code",
   "execution_count": null,
   "id": "d9f8c4bb",
   "metadata": {},
   "outputs": [],
   "source": [
    "Strategy to measure heights of the male on the earth depends on following factors to collect sample data which should be presentation of entire male population:\n",
    "1) Grown up male (Age > 20 as per WHO)\n",
    "2) Influenced by genetics\n",
    "3) Medical conditions that caused extremes in height\n",
    "4) Other necessary factor for height difference world-wide.\n",
    "Take the average of all the data collected for male height."
   ]
  },
  {
   "cell_type": "markdown",
   "id": "cf1777a1",
   "metadata": {},
   "source": [
    "7. Calculate the z score of the following numbers:\n",
    "X = [4.5,6.2,7.3,9.1,10.4,11]"
   ]
  },
  {
   "cell_type": "code",
   "execution_count": 3,
   "id": "6b039da7",
   "metadata": {},
   "outputs": [
    {
     "data": {
      "text/html": [
       "<div>\n",
       "<style scoped>\n",
       "    .dataframe tbody tr th:only-of-type {\n",
       "        vertical-align: middle;\n",
       "    }\n",
       "\n",
       "    .dataframe tbody tr th {\n",
       "        vertical-align: top;\n",
       "    }\n",
       "\n",
       "    .dataframe thead th {\n",
       "        text-align: right;\n",
       "    }\n",
       "</style>\n",
       "<table border=\"1\" class=\"dataframe\">\n",
       "  <thead>\n",
       "    <tr style=\"text-align: right;\">\n",
       "      <th></th>\n",
       "      <th>x</th>\n",
       "      <th>z_score</th>\n",
       "    </tr>\n",
       "  </thead>\n",
       "  <tbody>\n",
       "    <tr>\n",
       "      <th>0</th>\n",
       "      <td>4.5</td>\n",
       "      <td>-1.553856</td>\n",
       "    </tr>\n",
       "    <tr>\n",
       "      <th>1</th>\n",
       "      <td>6.2</td>\n",
       "      <td>-0.816678</td>\n",
       "    </tr>\n",
       "    <tr>\n",
       "      <th>2</th>\n",
       "      <td>7.3</td>\n",
       "      <td>-0.339680</td>\n",
       "    </tr>\n",
       "    <tr>\n",
       "      <th>3</th>\n",
       "      <td>9.1</td>\n",
       "      <td>0.440861</td>\n",
       "    </tr>\n",
       "    <tr>\n",
       "      <th>4</th>\n",
       "      <td>10.4</td>\n",
       "      <td>1.004586</td>\n",
       "    </tr>\n",
       "    <tr>\n",
       "      <th>5</th>\n",
       "      <td>11.0</td>\n",
       "      <td>1.264767</td>\n",
       "    </tr>\n",
       "  </tbody>\n",
       "</table>\n",
       "</div>"
      ],
      "text/plain": [
       "      x   z_score\n",
       "0   4.5 -1.553856\n",
       "1   6.2 -0.816678\n",
       "2   7.3 -0.339680\n",
       "3   9.1  0.440861\n",
       "4  10.4  1.004586\n",
       "5  11.0  1.264767"
      ]
     },
     "execution_count": 3,
     "metadata": {},
     "output_type": "execute_result"
    }
   ],
   "source": [
    "import scipy.stats as stats\n",
    "x = [4.5,6.2,7.3,9.1,10.4,11]\n",
    "y = pd.DataFrame({'x': [4.5,6.2,7.3,9.1,10.4,11]})\n",
    "y['z_score'] = stats.zscore(y['x'])\n",
    "y"
   ]
  },
  {
   "cell_type": "markdown",
   "id": "26f0b851",
   "metadata": {},
   "source": [
    "## Section 2"
   ]
  },
  {
   "cell_type": "markdown",
   "id": "e1d71179",
   "metadata": {},
   "source": [
    "You are expected to perform statistical analysis for the Bank Personal Loan Modelling dataset. Below is the data dictionary. For questions 8 to 20, use the Bank Personal Loan Modelling dataset and answer the given questions.\n",
    " ID                 Customer ID\n",
    " Age                Customer's age in complete years\n",
    " Experience         #years of professional experience\n",
    " Income             Annual income of the customer ($000)\n",
    " ZIPCode            Home Address ZIP code.\n",
    " Family             Family size of the customer\n",
    " CCAvg              Avg. spending on credit cards per month ($000)\n",
    " Education          Education Level. 1: Undergrad; 2: Graduate; 3: Advanced/Professional\n",
    " Mortgage           Value of house mortgage if any.($000)\n",
    " Personal Loan      Did this customer accept the personal loan offered in the last campaign?\n",
    " Securities Account Does the customer have a securities account with the bank?\n",
    " CD Account         Does the customer have a certificate of deposite (CD) account with the bank?\n",
    " Online             Does the customer use internet banking facilities?\n",
    " CreditCard         Does the customer use a credit card issued by UniversalBank?"
   ]
  },
  {
   "cell_type": "markdown",
   "id": "608ed05f",
   "metadata": {},
   "source": [
    "8. Give the statistical summary for all the variables in the dataset."
   ]
  },
  {
   "cell_type": "code",
   "execution_count": 51,
   "id": "28732a7e",
   "metadata": {},
   "outputs": [
    {
     "name": "stderr",
     "output_type": "stream",
     "text": [
      "C:\\Users\\john_\\anaconda3\\lib\\site-packages\\openpyxl\\worksheet\\_read_only.py:79: UserWarning: Unknown extension is not supported and will be removed\n",
      "  for idx, row in parser.parse():\n"
     ]
    },
    {
     "data": {
      "text/html": [
       "<div>\n",
       "<style scoped>\n",
       "    .dataframe tbody tr th:only-of-type {\n",
       "        vertical-align: middle;\n",
       "    }\n",
       "\n",
       "    .dataframe tbody tr th {\n",
       "        vertical-align: top;\n",
       "    }\n",
       "\n",
       "    .dataframe thead th {\n",
       "        text-align: right;\n",
       "    }\n",
       "</style>\n",
       "<table border=\"1\" class=\"dataframe\">\n",
       "  <thead>\n",
       "    <tr style=\"text-align: right;\">\n",
       "      <th></th>\n",
       "      <th>ID</th>\n",
       "      <th>Age</th>\n",
       "      <th>Experience</th>\n",
       "      <th>Income</th>\n",
       "      <th>ZIP Code</th>\n",
       "      <th>Family</th>\n",
       "      <th>CCAvg</th>\n",
       "      <th>Education</th>\n",
       "      <th>Mortgage</th>\n",
       "      <th>Personal Loan</th>\n",
       "      <th>Securities Account</th>\n",
       "      <th>CD Account</th>\n",
       "      <th>Online</th>\n",
       "      <th>CreditCard</th>\n",
       "    </tr>\n",
       "  </thead>\n",
       "  <tbody>\n",
       "    <tr>\n",
       "      <th>count</th>\n",
       "      <td>5000.000000</td>\n",
       "      <td>5000.000000</td>\n",
       "      <td>5000.000000</td>\n",
       "      <td>5000.000000</td>\n",
       "      <td>5000.000000</td>\n",
       "      <td>5000.000000</td>\n",
       "      <td>5000.000000</td>\n",
       "      <td>5000.000000</td>\n",
       "      <td>5000.000000</td>\n",
       "      <td>5000.000000</td>\n",
       "      <td>5000.000000</td>\n",
       "      <td>5000.00000</td>\n",
       "      <td>5000.000000</td>\n",
       "      <td>5000.000000</td>\n",
       "    </tr>\n",
       "    <tr>\n",
       "      <th>mean</th>\n",
       "      <td>2500.500000</td>\n",
       "      <td>45.338400</td>\n",
       "      <td>20.104600</td>\n",
       "      <td>73.774200</td>\n",
       "      <td>93152.503000</td>\n",
       "      <td>2.396400</td>\n",
       "      <td>1.937913</td>\n",
       "      <td>1.881000</td>\n",
       "      <td>56.498800</td>\n",
       "      <td>0.096000</td>\n",
       "      <td>0.104400</td>\n",
       "      <td>0.06040</td>\n",
       "      <td>0.596800</td>\n",
       "      <td>0.294000</td>\n",
       "    </tr>\n",
       "    <tr>\n",
       "      <th>std</th>\n",
       "      <td>1443.520003</td>\n",
       "      <td>11.463166</td>\n",
       "      <td>11.467954</td>\n",
       "      <td>46.033729</td>\n",
       "      <td>2121.852197</td>\n",
       "      <td>1.147663</td>\n",
       "      <td>1.747666</td>\n",
       "      <td>0.839869</td>\n",
       "      <td>101.713802</td>\n",
       "      <td>0.294621</td>\n",
       "      <td>0.305809</td>\n",
       "      <td>0.23825</td>\n",
       "      <td>0.490589</td>\n",
       "      <td>0.455637</td>\n",
       "    </tr>\n",
       "    <tr>\n",
       "      <th>min</th>\n",
       "      <td>1.000000</td>\n",
       "      <td>23.000000</td>\n",
       "      <td>-3.000000</td>\n",
       "      <td>8.000000</td>\n",
       "      <td>9307.000000</td>\n",
       "      <td>1.000000</td>\n",
       "      <td>0.000000</td>\n",
       "      <td>1.000000</td>\n",
       "      <td>0.000000</td>\n",
       "      <td>0.000000</td>\n",
       "      <td>0.000000</td>\n",
       "      <td>0.00000</td>\n",
       "      <td>0.000000</td>\n",
       "      <td>0.000000</td>\n",
       "    </tr>\n",
       "    <tr>\n",
       "      <th>25%</th>\n",
       "      <td>1250.750000</td>\n",
       "      <td>35.000000</td>\n",
       "      <td>10.000000</td>\n",
       "      <td>39.000000</td>\n",
       "      <td>91911.000000</td>\n",
       "      <td>1.000000</td>\n",
       "      <td>0.700000</td>\n",
       "      <td>1.000000</td>\n",
       "      <td>0.000000</td>\n",
       "      <td>0.000000</td>\n",
       "      <td>0.000000</td>\n",
       "      <td>0.00000</td>\n",
       "      <td>0.000000</td>\n",
       "      <td>0.000000</td>\n",
       "    </tr>\n",
       "    <tr>\n",
       "      <th>50%</th>\n",
       "      <td>2500.500000</td>\n",
       "      <td>45.000000</td>\n",
       "      <td>20.000000</td>\n",
       "      <td>64.000000</td>\n",
       "      <td>93437.000000</td>\n",
       "      <td>2.000000</td>\n",
       "      <td>1.500000</td>\n",
       "      <td>2.000000</td>\n",
       "      <td>0.000000</td>\n",
       "      <td>0.000000</td>\n",
       "      <td>0.000000</td>\n",
       "      <td>0.00000</td>\n",
       "      <td>1.000000</td>\n",
       "      <td>0.000000</td>\n",
       "    </tr>\n",
       "    <tr>\n",
       "      <th>75%</th>\n",
       "      <td>3750.250000</td>\n",
       "      <td>55.000000</td>\n",
       "      <td>30.000000</td>\n",
       "      <td>98.000000</td>\n",
       "      <td>94608.000000</td>\n",
       "      <td>3.000000</td>\n",
       "      <td>2.500000</td>\n",
       "      <td>3.000000</td>\n",
       "      <td>101.000000</td>\n",
       "      <td>0.000000</td>\n",
       "      <td>0.000000</td>\n",
       "      <td>0.00000</td>\n",
       "      <td>1.000000</td>\n",
       "      <td>1.000000</td>\n",
       "    </tr>\n",
       "    <tr>\n",
       "      <th>max</th>\n",
       "      <td>5000.000000</td>\n",
       "      <td>67.000000</td>\n",
       "      <td>43.000000</td>\n",
       "      <td>224.000000</td>\n",
       "      <td>96651.000000</td>\n",
       "      <td>4.000000</td>\n",
       "      <td>10.000000</td>\n",
       "      <td>3.000000</td>\n",
       "      <td>635.000000</td>\n",
       "      <td>1.000000</td>\n",
       "      <td>1.000000</td>\n",
       "      <td>1.00000</td>\n",
       "      <td>1.000000</td>\n",
       "      <td>1.000000</td>\n",
       "    </tr>\n",
       "  </tbody>\n",
       "</table>\n",
       "</div>"
      ],
      "text/plain": [
       "                ID          Age   Experience       Income      ZIP Code  \\\n",
       "count  5000.000000  5000.000000  5000.000000  5000.000000   5000.000000   \n",
       "mean   2500.500000    45.338400    20.104600    73.774200  93152.503000   \n",
       "std    1443.520003    11.463166    11.467954    46.033729   2121.852197   \n",
       "min       1.000000    23.000000    -3.000000     8.000000   9307.000000   \n",
       "25%    1250.750000    35.000000    10.000000    39.000000  91911.000000   \n",
       "50%    2500.500000    45.000000    20.000000    64.000000  93437.000000   \n",
       "75%    3750.250000    55.000000    30.000000    98.000000  94608.000000   \n",
       "max    5000.000000    67.000000    43.000000   224.000000  96651.000000   \n",
       "\n",
       "            Family        CCAvg    Education     Mortgage  Personal Loan  \\\n",
       "count  5000.000000  5000.000000  5000.000000  5000.000000    5000.000000   \n",
       "mean      2.396400     1.937913     1.881000    56.498800       0.096000   \n",
       "std       1.147663     1.747666     0.839869   101.713802       0.294621   \n",
       "min       1.000000     0.000000     1.000000     0.000000       0.000000   \n",
       "25%       1.000000     0.700000     1.000000     0.000000       0.000000   \n",
       "50%       2.000000     1.500000     2.000000     0.000000       0.000000   \n",
       "75%       3.000000     2.500000     3.000000   101.000000       0.000000   \n",
       "max       4.000000    10.000000     3.000000   635.000000       1.000000   \n",
       "\n",
       "       Securities Account  CD Account       Online   CreditCard  \n",
       "count         5000.000000  5000.00000  5000.000000  5000.000000  \n",
       "mean             0.104400     0.06040     0.596800     0.294000  \n",
       "std              0.305809     0.23825     0.490589     0.455637  \n",
       "min              0.000000     0.00000     0.000000     0.000000  \n",
       "25%              0.000000     0.00000     0.000000     0.000000  \n",
       "50%              0.000000     0.00000     1.000000     0.000000  \n",
       "75%              0.000000     0.00000     1.000000     1.000000  \n",
       "max              1.000000     1.00000     1.000000     1.000000  "
      ]
     },
     "execution_count": 51,
     "metadata": {},
     "output_type": "execute_result"
    }
   ],
   "source": [
    "# Import the data\n",
    "df = pd.read_excel(\"C:\\Technology\\HeroVired\\Assignment\\Descriptive Python\\Bank Personal Loan Modelling.xlsx\", sheet_name=\"Data\")\n",
    "\n",
    "# Statistical summary for all the variables in the dataset.\n",
    "df.describe()"
   ]
  },
  {
   "cell_type": "markdown",
   "id": "f7a7b1c2",
   "metadata": {},
   "source": [
    "9. Give all the measures of central tendency for all the quantitative variables which are continuous and discrete."
   ]
  },
  {
   "cell_type": "code",
   "execution_count": 63,
   "id": "caaab656",
   "metadata": {},
   "outputs": [
    {
     "data": {
      "text/plain": [
       "ID                    5000\n",
       "Age                     45\n",
       "Experience              47\n",
       "Income                 162\n",
       "ZIP Code               467\n",
       "Family                   4\n",
       "CCAvg                  108\n",
       "Education                3\n",
       "Mortgage               347\n",
       "Personal Loan            2\n",
       "Securities Account       2\n",
       "CD Account               2\n",
       "Online                   2\n",
       "CreditCard               2\n",
       "dtype: int64"
      ]
     },
     "execution_count": 63,
     "metadata": {},
     "output_type": "execute_result"
    }
   ],
   "source": [
    "# unique value in dataset\n",
    "df.nunique()"
   ]
  },
  {
   "cell_type": "code",
   "execution_count": 59,
   "id": "4faa8115",
   "metadata": {},
   "outputs": [
    {
     "name": "stdout",
     "output_type": "stream",
     "text": [
      "******************************\n",
      "Mean of the below varibles:\n",
      " Experience    20.104600\n",
      "Income        73.774200\n",
      "CCAvg          1.937913\n",
      "Mortgage      56.498800\n",
      "dtype: float64\n",
      "******************************\n",
      "Median of the below variables:\n",
      "ID        2500.5\n",
      "Age         45.0\n",
      "Family       2.0\n",
      "dtype: float64\n",
      "******************************\n",
      "Mode of below variables:\n",
      "                    0\n",
      "Education           1\n",
      "Personal Loan       0\n",
      "Securities Account  0\n",
      "CD Account          0\n",
      "Online              1\n",
      "CreditCard          0\n",
      "******************************\n"
     ]
    }
   ],
   "source": [
    "# From the data above only \"Experience, Income, CCAvg, Mortgage\" are quantitative continuous variables\n",
    "# whereas \"ID, Age, Family\" are quantitative Discrete variables\n",
    "# ID is removed from mode as there will be no repetative values and all values are unique\n",
    "# From the data above \"Personal Loan, Securities Account, CD Account, Online, CreditCard\" are qualitative Nominal data\n",
    "# where as \"Education\" is qualitative Ordinal data\n",
    "# Above observation is done using data description given and finding value_count of the variables\n",
    "\n",
    "#Continuous variables\n",
    "continuous = ['Experience','Income','CCAvg','Mortgage']\n",
    "\n",
    "#Discrete variables\n",
    "discrete = ['ID','Age','Family']\n",
    "\n",
    "#The measures of central tendency for all the quantitative variables which are continuous\n",
    "meancv = df[['Experience','Income','CCAvg','Mortgage']].mean()\n",
    "mediancv = df[['ID','Age','Family']].median()\n",
    "modedv = df[['Education','Personal Loan','Securities Account','CD Account','Online','CreditCard']].mode().T\n",
    "\n",
    "print('*'*30)\n",
    "print(f'Mean of the below varibles:\\n {meancv}')\n",
    "print('*'*30)\n",
    "print(f'Median of the below variables:\\n{mediancv}')\n",
    "print('*'*30)\n",
    "print(f'Mode of below variables:\\n{modedv}')\n",
    "print('*'*30)"
   ]
  },
  {
   "cell_type": "markdown",
   "id": "ac1e46f5",
   "metadata": {},
   "source": [
    "10. Can you apply any statistical method to observe any similarity in distribution between age and experience variables?"
   ]
  },
  {
   "cell_type": "code",
   "execution_count": 79,
   "id": "236b8751",
   "metadata": {},
   "outputs": [
    {
     "name": "stdout",
     "output_type": "stream",
     "text": [
      "Age           45.3384\n",
      "Experience    20.1046\n",
      "dtype: float64\n",
      "Age           11.462019\n",
      "Experience    11.466807\n",
      "dtype: float64\n"
     ]
    }
   ],
   "source": [
    "mean2 = df[['Age','Experience']].mean()\n",
    "std_dev2 = np.std(df[['Age','Experience']])\n",
    "print(mean2)\n",
    "print(std_dev2)\n",
    "# From below answer we can say the standard deviation is same \n",
    "# hence and Age and Experience variables are distributed in same fashion"
   ]
  },
  {
   "cell_type": "markdown",
   "id": "dbebe957",
   "metadata": {},
   "source": [
    "11. Who are the most frequent family members present in this dataset?"
   ]
  },
  {
   "cell_type": "code",
   "execution_count": 92,
   "id": "794a3623",
   "metadata": {},
   "outputs": [
    {
     "data": {
      "text/plain": [
       "Family\n",
       "1    29.44\n",
       "2    25.92\n",
       "3    20.20\n",
       "4    24.44\n",
       "Name: Family, dtype: float64"
      ]
     },
     "execution_count": 92,
     "metadata": {},
     "output_type": "execute_result"
    }
   ],
   "source": [
    "df.groupby('Family')['Family'].count()/5000*100"
   ]
  },
  {
   "cell_type": "code",
   "execution_count": null,
   "id": "88a58733",
   "metadata": {},
   "outputs": [],
   "source": [
    "The most frequent family members present in this dataset are Singles, 29.44%"
   ]
  },
  {
   "cell_type": "markdown",
   "id": "757cfc0d",
   "metadata": {},
   "source": [
    "12. What is the coefficient of variation you can observe in the ‘Income’ variable?"
   ]
  },
  {
   "cell_type": "code",
   "execution_count": 99,
   "id": "339e17b0",
   "metadata": {},
   "outputs": [
    {
     "name": "stdout",
     "output_type": "stream",
     "text": [
      "The coefficient of variation in Income is 62.4%\n"
     ]
    }
   ],
   "source": [
    "# Coefficient of variation:\n",
    "# CV = (Standard Deviation / Mean) * 100\n",
    "\n",
    "std= df['Income'].std()                     #Standard deviation of Income\n",
    "mean= df['Income'].mean()                   #Mean of Income\n",
    "cv=std/mean*100\n",
    "print(\"The coefficient of variation in Income is \"+str(round(cv,2))+'%')"
   ]
  },
  {
   "cell_type": "markdown",
   "id": "e615ec44",
   "metadata": {},
   "source": [
    "13. The ‘Mortgage’ variable is having a lot of zeroes. Impute with some business logical value that you feel fit for the data."
   ]
  },
  {
   "cell_type": "code",
   "execution_count": 103,
   "id": "b25b25f4",
   "metadata": {},
   "outputs": [
    {
     "data": {
      "text/plain": [
       "2.1040023191079444"
      ]
     },
     "execution_count": 103,
     "metadata": {},
     "output_type": "execute_result"
    }
   ],
   "source": [
    "# Before imputing value in Mortgage variable in place of zero need to check whether it skewed.\n",
    "df['Mortgage'].skew()"
   ]
  },
  {
   "cell_type": "code",
   "execution_count": 104,
   "id": "c925c629",
   "metadata": {},
   "outputs": [
    {
     "data": {
      "text/plain": [
       "0.0"
      ]
     },
     "execution_count": 104,
     "metadata": {},
     "output_type": "execute_result"
    }
   ],
   "source": [
    "# It is positively skewed and in this case we should go with median value Mortgage for impute which is 0.\n",
    "df['Mortgage'].median()\n",
    "\n",
    "#There is no point of imputing any logical value for zeroes in Mortgage variable for personal loan."
   ]
  },
  {
   "cell_type": "markdown",
   "id": "22f6ff41",
   "metadata": {},
   "source": [
    "14. Do customers with credit cards have any impact on their experience and income?"
   ]
  },
  {
   "cell_type": "code",
   "execution_count": 112,
   "id": "d1edd2a5",
   "metadata": {},
   "outputs": [
    {
     "name": "stderr",
     "output_type": "stream",
     "text": [
      "C:\\Users\\john_\\AppData\\Local\\Temp\\ipykernel_22772\\4101681774.py:2: FutureWarning: Indexing with multiple keys (implicitly converted to a tuple of keys) will be deprecated, use a list instead.\n",
      "  df.groupby('CreditCard')['Experience','Income'].describe().T\n"
     ]
    },
    {
     "data": {
      "text/html": [
       "<div>\n",
       "<style scoped>\n",
       "    .dataframe tbody tr th:only-of-type {\n",
       "        vertical-align: middle;\n",
       "    }\n",
       "\n",
       "    .dataframe tbody tr th {\n",
       "        vertical-align: top;\n",
       "    }\n",
       "\n",
       "    .dataframe thead th {\n",
       "        text-align: right;\n",
       "    }\n",
       "</style>\n",
       "<table border=\"1\" class=\"dataframe\">\n",
       "  <thead>\n",
       "    <tr style=\"text-align: right;\">\n",
       "      <th></th>\n",
       "      <th>CreditCard</th>\n",
       "      <th>0</th>\n",
       "      <th>1</th>\n",
       "    </tr>\n",
       "  </thead>\n",
       "  <tbody>\n",
       "    <tr>\n",
       "      <th rowspan=\"8\" valign=\"top\">Experience</th>\n",
       "      <th>count</th>\n",
       "      <td>3530.000000</td>\n",
       "      <td>1470.000000</td>\n",
       "    </tr>\n",
       "    <tr>\n",
       "      <th>mean</th>\n",
       "      <td>20.038244</td>\n",
       "      <td>20.263946</td>\n",
       "    </tr>\n",
       "    <tr>\n",
       "      <th>std</th>\n",
       "      <td>11.447365</td>\n",
       "      <td>11.519587</td>\n",
       "    </tr>\n",
       "    <tr>\n",
       "      <th>min</th>\n",
       "      <td>-3.000000</td>\n",
       "      <td>-2.000000</td>\n",
       "    </tr>\n",
       "    <tr>\n",
       "      <th>25%</th>\n",
       "      <td>10.000000</td>\n",
       "      <td>10.000000</td>\n",
       "    </tr>\n",
       "    <tr>\n",
       "      <th>50%</th>\n",
       "      <td>20.000000</td>\n",
       "      <td>20.000000</td>\n",
       "    </tr>\n",
       "    <tr>\n",
       "      <th>75%</th>\n",
       "      <td>30.000000</td>\n",
       "      <td>30.000000</td>\n",
       "    </tr>\n",
       "    <tr>\n",
       "      <th>max</th>\n",
       "      <td>43.000000</td>\n",
       "      <td>43.000000</td>\n",
       "    </tr>\n",
       "    <tr>\n",
       "      <th rowspan=\"8\" valign=\"top\">Income</th>\n",
       "      <th>count</th>\n",
       "      <td>3530.000000</td>\n",
       "      <td>1470.000000</td>\n",
       "    </tr>\n",
       "    <tr>\n",
       "      <th>mean</th>\n",
       "      <td>73.845042</td>\n",
       "      <td>73.604082</td>\n",
       "    </tr>\n",
       "    <tr>\n",
       "      <th>std</th>\n",
       "      <td>46.000001</td>\n",
       "      <td>46.129849</td>\n",
       "    </tr>\n",
       "    <tr>\n",
       "      <th>min</th>\n",
       "      <td>8.000000</td>\n",
       "      <td>8.000000</td>\n",
       "    </tr>\n",
       "    <tr>\n",
       "      <th>25%</th>\n",
       "      <td>39.000000</td>\n",
       "      <td>38.000000</td>\n",
       "    </tr>\n",
       "    <tr>\n",
       "      <th>50%</th>\n",
       "      <td>63.500000</td>\n",
       "      <td>64.000000</td>\n",
       "    </tr>\n",
       "    <tr>\n",
       "      <th>75%</th>\n",
       "      <td>98.000000</td>\n",
       "      <td>98.000000</td>\n",
       "    </tr>\n",
       "    <tr>\n",
       "      <th>max</th>\n",
       "      <td>218.000000</td>\n",
       "      <td>224.000000</td>\n",
       "    </tr>\n",
       "  </tbody>\n",
       "</table>\n",
       "</div>"
      ],
      "text/plain": [
       "CreditCard                  0            1\n",
       "Experience count  3530.000000  1470.000000\n",
       "           mean     20.038244    20.263946\n",
       "           std      11.447365    11.519587\n",
       "           min      -3.000000    -2.000000\n",
       "           25%      10.000000    10.000000\n",
       "           50%      20.000000    20.000000\n",
       "           75%      30.000000    30.000000\n",
       "           max      43.000000    43.000000\n",
       "Income     count  3530.000000  1470.000000\n",
       "           mean     73.845042    73.604082\n",
       "           std      46.000001    46.129849\n",
       "           min       8.000000     8.000000\n",
       "           25%      39.000000    38.000000\n",
       "           50%      63.500000    64.000000\n",
       "           75%      98.000000    98.000000\n",
       "           max     218.000000   224.000000"
      ]
     },
     "execution_count": 112,
     "metadata": {},
     "output_type": "execute_result"
    }
   ],
   "source": [
    "# The statistical analysis of Experience and Income variable on the basis of credit card variable:\n",
    "df.groupby('CreditCard')['Experience','Income'].describe().T"
   ]
  },
  {
   "cell_type": "code",
   "execution_count": null,
   "id": "c05f6c69",
   "metadata": {},
   "outputs": [],
   "source": [
    "Above details shows there is not much impact of credit card on experience and income. Both statistic with credit card and without credit card has similar data in regards to experience and income."
   ]
  },
  {
   "cell_type": "markdown",
   "id": "2d9e525e",
   "metadata": {},
   "source": [
    "15. Do you see any outliers in the dataset? If yes what plot is suitable to showcase to the stakeholders?"
   ]
  },
  {
   "cell_type": "code",
   "execution_count": 65,
   "id": "75487b4f",
   "metadata": {},
   "outputs": [
    {
     "data": {
      "text/html": [
       "<div>\n",
       "<style scoped>\n",
       "    .dataframe tbody tr th:only-of-type {\n",
       "        vertical-align: middle;\n",
       "    }\n",
       "\n",
       "    .dataframe tbody tr th {\n",
       "        vertical-align: top;\n",
       "    }\n",
       "\n",
       "    .dataframe thead th {\n",
       "        text-align: right;\n",
       "    }\n",
       "</style>\n",
       "<table border=\"1\" class=\"dataframe\">\n",
       "  <thead>\n",
       "    <tr style=\"text-align: right;\">\n",
       "      <th></th>\n",
       "      <th>count</th>\n",
       "      <th>mean</th>\n",
       "      <th>std</th>\n",
       "      <th>min</th>\n",
       "      <th>25%</th>\n",
       "      <th>50%</th>\n",
       "      <th>75%</th>\n",
       "      <th>max</th>\n",
       "    </tr>\n",
       "  </thead>\n",
       "  <tbody>\n",
       "    <tr>\n",
       "      <th>ID</th>\n",
       "      <td>5000.0</td>\n",
       "      <td>2500.5000</td>\n",
       "      <td>1443.520003</td>\n",
       "      <td>1.0</td>\n",
       "      <td>1250.75</td>\n",
       "      <td>2500.5</td>\n",
       "      <td>3750.25</td>\n",
       "      <td>5000.0</td>\n",
       "    </tr>\n",
       "    <tr>\n",
       "      <th>Age</th>\n",
       "      <td>5000.0</td>\n",
       "      <td>45.3384</td>\n",
       "      <td>11.463166</td>\n",
       "      <td>23.0</td>\n",
       "      <td>35.00</td>\n",
       "      <td>45.0</td>\n",
       "      <td>55.00</td>\n",
       "      <td>67.0</td>\n",
       "    </tr>\n",
       "    <tr>\n",
       "      <th>Experience</th>\n",
       "      <td>5000.0</td>\n",
       "      <td>20.1046</td>\n",
       "      <td>11.467954</td>\n",
       "      <td>-3.0</td>\n",
       "      <td>10.00</td>\n",
       "      <td>20.0</td>\n",
       "      <td>30.00</td>\n",
       "      <td>43.0</td>\n",
       "    </tr>\n",
       "    <tr>\n",
       "      <th>Income</th>\n",
       "      <td>5000.0</td>\n",
       "      <td>73.7742</td>\n",
       "      <td>46.033729</td>\n",
       "      <td>8.0</td>\n",
       "      <td>39.00</td>\n",
       "      <td>64.0</td>\n",
       "      <td>98.00</td>\n",
       "      <td>224.0</td>\n",
       "    </tr>\n",
       "    <tr>\n",
       "      <th>ZIP Code</th>\n",
       "      <td>5000.0</td>\n",
       "      <td>93152.5030</td>\n",
       "      <td>2121.852197</td>\n",
       "      <td>9307.0</td>\n",
       "      <td>91911.00</td>\n",
       "      <td>93437.0</td>\n",
       "      <td>94608.00</td>\n",
       "      <td>96651.0</td>\n",
       "    </tr>\n",
       "    <tr>\n",
       "      <th>Family</th>\n",
       "      <td>5000.0</td>\n",
       "      <td>2.3964</td>\n",
       "      <td>1.147663</td>\n",
       "      <td>1.0</td>\n",
       "      <td>1.00</td>\n",
       "      <td>2.0</td>\n",
       "      <td>3.00</td>\n",
       "      <td>4.0</td>\n",
       "    </tr>\n",
       "    <tr>\n",
       "      <th>Education</th>\n",
       "      <td>5000.0</td>\n",
       "      <td>1.8810</td>\n",
       "      <td>0.839869</td>\n",
       "      <td>1.0</td>\n",
       "      <td>1.00</td>\n",
       "      <td>2.0</td>\n",
       "      <td>3.00</td>\n",
       "      <td>3.0</td>\n",
       "    </tr>\n",
       "    <tr>\n",
       "      <th>Mortgage</th>\n",
       "      <td>5000.0</td>\n",
       "      <td>56.4988</td>\n",
       "      <td>101.713802</td>\n",
       "      <td>0.0</td>\n",
       "      <td>0.00</td>\n",
       "      <td>0.0</td>\n",
       "      <td>101.00</td>\n",
       "      <td>635.0</td>\n",
       "    </tr>\n",
       "    <tr>\n",
       "      <th>Personal Loan</th>\n",
       "      <td>5000.0</td>\n",
       "      <td>0.0960</td>\n",
       "      <td>0.294621</td>\n",
       "      <td>0.0</td>\n",
       "      <td>0.00</td>\n",
       "      <td>0.0</td>\n",
       "      <td>0.00</td>\n",
       "      <td>1.0</td>\n",
       "    </tr>\n",
       "    <tr>\n",
       "      <th>Securities Account</th>\n",
       "      <td>5000.0</td>\n",
       "      <td>0.1044</td>\n",
       "      <td>0.305809</td>\n",
       "      <td>0.0</td>\n",
       "      <td>0.00</td>\n",
       "      <td>0.0</td>\n",
       "      <td>0.00</td>\n",
       "      <td>1.0</td>\n",
       "    </tr>\n",
       "    <tr>\n",
       "      <th>CD Account</th>\n",
       "      <td>5000.0</td>\n",
       "      <td>0.0604</td>\n",
       "      <td>0.238250</td>\n",
       "      <td>0.0</td>\n",
       "      <td>0.00</td>\n",
       "      <td>0.0</td>\n",
       "      <td>0.00</td>\n",
       "      <td>1.0</td>\n",
       "    </tr>\n",
       "    <tr>\n",
       "      <th>Online</th>\n",
       "      <td>5000.0</td>\n",
       "      <td>0.5968</td>\n",
       "      <td>0.490589</td>\n",
       "      <td>0.0</td>\n",
       "      <td>0.00</td>\n",
       "      <td>1.0</td>\n",
       "      <td>1.00</td>\n",
       "      <td>1.0</td>\n",
       "    </tr>\n",
       "    <tr>\n",
       "      <th>CreditCard</th>\n",
       "      <td>5000.0</td>\n",
       "      <td>0.2940</td>\n",
       "      <td>0.455637</td>\n",
       "      <td>0.0</td>\n",
       "      <td>0.00</td>\n",
       "      <td>0.0</td>\n",
       "      <td>1.00</td>\n",
       "      <td>1.0</td>\n",
       "    </tr>\n",
       "  </tbody>\n",
       "</table>\n",
       "</div>"
      ],
      "text/plain": [
       "                     count        mean          std     min       25%  \\\n",
       "ID                  5000.0   2500.5000  1443.520003     1.0   1250.75   \n",
       "Age                 5000.0     45.3384    11.463166    23.0     35.00   \n",
       "Experience          5000.0     20.1046    11.467954    -3.0     10.00   \n",
       "Income              5000.0     73.7742    46.033729     8.0     39.00   \n",
       "ZIP Code            5000.0  93152.5030  2121.852197  9307.0  91911.00   \n",
       "Family              5000.0      2.3964     1.147663     1.0      1.00   \n",
       "Education           5000.0      1.8810     0.839869     1.0      1.00   \n",
       "Mortgage            5000.0     56.4988   101.713802     0.0      0.00   \n",
       "Personal Loan       5000.0      0.0960     0.294621     0.0      0.00   \n",
       "Securities Account  5000.0      0.1044     0.305809     0.0      0.00   \n",
       "CD Account          5000.0      0.0604     0.238250     0.0      0.00   \n",
       "Online              5000.0      0.5968     0.490589     0.0      0.00   \n",
       "CreditCard          5000.0      0.2940     0.455637     0.0      0.00   \n",
       "\n",
       "                        50%       75%      max  \n",
       "ID                   2500.5   3750.25   5000.0  \n",
       "Age                    45.0     55.00     67.0  \n",
       "Experience             20.0     30.00     43.0  \n",
       "Income                 64.0     98.00    224.0  \n",
       "ZIP Code            93437.0  94608.00  96651.0  \n",
       "Family                  2.0      3.00      4.0  \n",
       "Education               2.0      3.00      3.0  \n",
       "Mortgage                0.0    101.00    635.0  \n",
       "Personal Loan           0.0      0.00      1.0  \n",
       "Securities Account      0.0      0.00      1.0  \n",
       "CD Account              0.0      0.00      1.0  \n",
       "Online                  1.0      1.00      1.0  \n",
       "CreditCard              0.0      1.00      1.0  "
      ]
     },
     "execution_count": 65,
     "metadata": {},
     "output_type": "execute_result"
    }
   ],
   "source": [
    "# Statistical data of all the variables.\n",
    "df.describe(include=np.int64).T"
   ]
  },
  {
   "cell_type": "code",
   "execution_count": 66,
   "id": "56214646",
   "metadata": {},
   "outputs": [
    {
     "data": {
      "text/plain": [
       "ID                     1250.75\n",
       "Age                      35.00\n",
       "Experience               10.00\n",
       "Income                   39.00\n",
       "ZIP Code              91911.00\n",
       "Family                    1.00\n",
       "CCAvg                     0.70\n",
       "Education                 1.00\n",
       "Mortgage                  0.00\n",
       "Personal Loan             0.00\n",
       "Securities Account        0.00\n",
       "CD Account                0.00\n",
       "Online                    0.00\n",
       "CreditCard                0.00\n",
       "Name: 0.25, dtype: float64"
      ]
     },
     "execution_count": 66,
     "metadata": {},
     "output_type": "execute_result"
    }
   ],
   "source": [
    "# Quartile 1 of all the variables\n",
    "Q1=df.quantile(.25)\n",
    "Q1"
   ]
  },
  {
   "cell_type": "code",
   "execution_count": 67,
   "id": "8450d47e",
   "metadata": {},
   "outputs": [
    {
     "data": {
      "text/plain": [
       "ID                     3750.25\n",
       "Age                      55.00\n",
       "Experience               30.00\n",
       "Income                   98.00\n",
       "ZIP Code              94608.00\n",
       "Family                    3.00\n",
       "CCAvg                     2.50\n",
       "Education                 3.00\n",
       "Mortgage                101.00\n",
       "Personal Loan             0.00\n",
       "Securities Account        0.00\n",
       "CD Account                0.00\n",
       "Online                    1.00\n",
       "CreditCard                1.00\n",
       "Name: 0.75, dtype: float64"
      ]
     },
     "execution_count": 67,
     "metadata": {},
     "output_type": "execute_result"
    }
   ],
   "source": [
    "# Quartile 3 of all the variables\n",
    "Q3=df.quantile(.75)\n",
    "Q3"
   ]
  },
  {
   "cell_type": "code",
   "execution_count": 68,
   "id": "9b6d506f",
   "metadata": {},
   "outputs": [
    {
     "data": {
      "text/plain": [
       "ID                    2499.5\n",
       "Age                     20.0\n",
       "Experience              20.0\n",
       "Income                  59.0\n",
       "ZIP Code              2697.0\n",
       "Family                   2.0\n",
       "CCAvg                    1.8\n",
       "Education                2.0\n",
       "Mortgage               101.0\n",
       "Personal Loan            0.0\n",
       "Securities Account       0.0\n",
       "CD Account               0.0\n",
       "Online                   1.0\n",
       "CreditCard               1.0\n",
       "dtype: float64"
      ]
     },
     "execution_count": 68,
     "metadata": {},
     "output_type": "execute_result"
    }
   ],
   "source": [
    "# Inter Quartile Range for all variables\n",
    "IQR=(df.quantile(.75) - df.quantile(.25))\n",
    "IQR"
   ]
  },
  {
   "cell_type": "code",
   "execution_count": 33,
   "id": "f102d060",
   "metadata": {},
   "outputs": [
    {
     "data": {
      "text/plain": [
       "Age                       5.0\n",
       "Experience              -20.0\n",
       "Income                  -49.5\n",
       "ZIP Code              87865.5\n",
       "CCAvg                    -2.0\n",
       "Mortgage               -151.5\n",
       "Family                   -2.0\n",
       "Education                -2.0\n",
       "Personal Loan             0.0\n",
       "Securities Account        0.0\n",
       "CD Account                0.0\n",
       "Online                   -1.5\n",
       "CreditCard               -1.5\n",
       "dtype: float64"
      ]
     },
     "execution_count": 33,
     "metadata": {},
     "output_type": "execute_result"
    }
   ],
   "source": [
    "# Lower limit for all variables\n",
    "lower_limit=Q1-1.5*IQR\n",
    "lower_limit"
   ]
  },
  {
   "cell_type": "code",
   "execution_count": 34,
   "id": "4acade95",
   "metadata": {},
   "outputs": [
    {
     "data": {
      "text/plain": [
       "Age                      85.0\n",
       "Experience               60.0\n",
       "Income                  186.5\n",
       "ZIP Code              98653.5\n",
       "CCAvg                     5.2\n",
       "Mortgage                252.5\n",
       "Family                    6.0\n",
       "Education                 6.0\n",
       "Personal Loan             0.0\n",
       "Securities Account        0.0\n",
       "CD Account                0.0\n",
       "Online                    2.5\n",
       "CreditCard                2.5\n",
       "dtype: float64"
      ]
     },
     "execution_count": 34,
     "metadata": {},
     "output_type": "execute_result"
    }
   ],
   "source": [
    "# Upper limit for all variables\n",
    "upper_limit=Q3+1.5*IQR\n",
    "upper_limit"
   ]
  },
  {
   "cell_type": "code",
   "execution_count": 69,
   "id": "a4ae3f48",
   "metadata": {},
   "outputs": [
    {
     "data": {
      "text/plain": [
       "Age                    -18.0\n",
       "CCAvg                    4.8\n",
       "CD Account               1.0\n",
       "CreditCard              -1.5\n",
       "Education               -3.0\n",
       "Experience             -17.0\n",
       "Family                  -2.0\n",
       "ID                       NaN\n",
       "Income                  37.5\n",
       "Mortgage               382.5\n",
       "Online                  -1.5\n",
       "Personal Loan            1.0\n",
       "Securities Account       1.0\n",
       "ZIP Code             -2002.5\n",
       "dtype: float64"
      ]
     },
     "execution_count": 69,
     "metadata": {},
     "output_type": "execute_result"
    }
   ],
   "source": [
    "# Outlier above upper limit for appropriate variables\n",
    "Upper_Outlier=df.max() - upper_limit\n",
    "Upper_Outlier"
   ]
  },
  {
   "cell_type": "code",
   "execution_count": 70,
   "id": "117f9e9a",
   "metadata": {},
   "outputs": [
    {
     "data": {
      "text/plain": [
       "Age                     NaN\n",
       "CCAvg                   4.8\n",
       "CD Account              NaN\n",
       "CreditCard              NaN\n",
       "Education               NaN\n",
       "Experience              NaN\n",
       "Family                  NaN\n",
       "Income                 37.5\n",
       "Mortgage              382.5\n",
       "Online                  NaN\n",
       "Personal Loan           NaN\n",
       "Securities Account      NaN\n",
       "ZIP Code                NaN\n",
       "dtype: float64"
      ]
     },
     "execution_count": 70,
     "metadata": {},
     "output_type": "execute_result"
    }
   ],
   "source": [
    "# In this outlier result only positive value to be considered as it is above upper limit.\n",
    "Upper_Outlier_Result=df[['CCAvg','Income','Mortgage']].max()-upper_limit\n",
    "Upper_Outlier_Result"
   ]
  },
  {
   "cell_type": "code",
   "execution_count": 71,
   "id": "d1dc880e",
   "metadata": {},
   "outputs": [
    {
     "data": {
      "text/plain": [
       "Age                     -18.0\n",
       "CCAvg                    -2.0\n",
       "CD Account                0.0\n",
       "CreditCard               -1.5\n",
       "Education                -3.0\n",
       "Experience              -17.0\n",
       "Family                   -3.0\n",
       "ID                        NaN\n",
       "Income                  -57.5\n",
       "Mortgage               -151.5\n",
       "Online                   -1.5\n",
       "Personal Loan             0.0\n",
       "Securities Account        0.0\n",
       "ZIP Code              78558.5\n",
       "dtype: float64"
      ]
     },
     "execution_count": 71,
     "metadata": {},
     "output_type": "execute_result"
    }
   ],
   "source": [
    "# Outlier below lower limit for appropriate variables\n",
    "Lower_Outlier=lower_limit - df.min()\n",
    "Lower_Outlier\n",
    "\n",
    "# In this outlier result only positive value to be considered as we don't have any data in negative value and excluding ZIP Code. Hence, there is no outlier in beyond lower limit."
   ]
  },
  {
   "cell_type": "code",
   "execution_count": 72,
   "id": "266615b8",
   "metadata": {},
   "outputs": [
    {
     "data": {
      "text/plain": [
       "<AxesSubplot:>"
      ]
     },
     "execution_count": 72,
     "metadata": {},
     "output_type": "execute_result"
    },
    {
     "data": {
      "image/png": "[encoded data removed]",
      "text/plain": [
       "<Figure size 640x480 with 1 Axes>"
      ]
     },
     "metadata": {},
     "output_type": "display_data"
    }
   ],
   "source": [
    "# Box plot is suitable for showcasing outlier. Here we two variables for showcasing outlier in Bank Personal Loan Modelling dataset\n",
    "df['CCAvg'].plot(kind='box') # For CCAvg variable"
   ]
  },
  {
   "cell_type": "code",
   "execution_count": 73,
   "id": "4be8c337",
   "metadata": {},
   "outputs": [
    {
     "data": {
      "text/plain": [
       "<AxesSubplot:>"
      ]
     },
     "execution_count": 73,
     "metadata": {},
     "output_type": "execute_result"
    },
    {
     "data": {
      "image/png": "[encoded data removed]",
      "text/plain": [
       "<Figure size 640x480 with 1 Axes>"
      ]
     },
     "metadata": {},
     "output_type": "display_data"
    }
   ],
   "source": [
    "df['Income'].plot(kind='box') # For Income variable"
   ]
  },
  {
   "cell_type": "code",
   "execution_count": 74,
   "id": "340abe55",
   "metadata": {},
   "outputs": [
    {
     "data": {
      "text/plain": [
       "<AxesSubplot:>"
      ]
     },
     "execution_count": 74,
     "metadata": {},
     "output_type": "execute_result"
    },
    {
     "data": {
      "image/png": "[encoded data removed]",
      "text/plain": [
       "<Figure size 640x480 with 1 Axes>"
      ]
     },
     "metadata": {},
     "output_type": "display_data"
    }
   ],
   "source": [
    "df['Mortgage'].plot(kind='box') # For Mortgage variable"
   ]
  },
  {
   "cell_type": "markdown",
   "id": "02cab369",
   "metadata": {},
   "source": [
    "16. Give us the deciles values of the variable ‘Income’ in the dataset."
   ]
  },
  {
   "cell_type": "code",
   "execution_count": 155,
   "id": "99bc66b2",
   "metadata": {},
   "outputs": [
    {
     "data": {
      "text/plain": [
       "0.0      8.0\n",
       "0.1     22.0\n",
       "0.2     33.0\n",
       "0.3     42.0\n",
       "0.4     52.0\n",
       "0.5     64.0\n",
       "0.6     78.0\n",
       "0.7     88.3\n",
       "0.8    113.0\n",
       "0.9    145.0\n",
       "Name: Income, dtype: float64"
      ]
     },
     "execution_count": 155,
     "metadata": {},
     "output_type": "execute_result"
    }
   ],
   "source": [
    "# To find the decile value, first order the data. Then, divide the data by 10. This indicates the number of observed values within each decile.\n",
    "\n",
    "df['Income'].quantile(np.arange(0,1,0.1))     # Data presented in group of 10."
   ]
  },
  {
   "cell_type": "markdown",
   "id": "0c040141",
   "metadata": {},
   "source": [
    "17. Give the IQR of all the variables which are quantitative and continuous."
   ]
  },
  {
   "cell_type": "code",
   "execution_count": 75,
   "id": "705c7dca",
   "metadata": {},
   "outputs": [
    {
     "data": {
      "text/plain": [
       "Experience    10.0\n",
       "Income        39.0\n",
       "CCAvg          0.7\n",
       "Mortgage       0.0\n",
       "Name: 0.25, dtype: float64"
      ]
     },
     "execution_count": 75,
     "metadata": {},
     "output_type": "execute_result"
    }
   ],
   "source": [
    "# IQR = Q3 - Q1.\n",
    "# Quartile 1 of all the variables which are quantitative and continuous\n",
    "Q1=df[['Experience','Income','CCAvg','Mortgage']].quantile(.25)\n",
    "Q1"
   ]
  },
  {
   "cell_type": "code",
   "execution_count": 76,
   "id": "c506d364",
   "metadata": {},
   "outputs": [
    {
     "data": {
      "text/plain": [
       "Experience     30.0\n",
       "Income         98.0\n",
       "CCAvg           2.5\n",
       "Mortgage      101.0\n",
       "Name: 0.75, dtype: float64"
      ]
     },
     "execution_count": 76,
     "metadata": {},
     "output_type": "execute_result"
    }
   ],
   "source": [
    "Q3=df[['Experience','Income','CCAvg','Mortgage']].quantile(.75)\n",
    "Q3"
   ]
  },
  {
   "cell_type": "code",
   "execution_count": 77,
   "id": "17e4f1f7",
   "metadata": {},
   "outputs": [
    {
     "data": {
      "text/plain": [
       "Experience     20.0\n",
       "Income         59.0\n",
       "CCAvg           1.8\n",
       "Mortgage      101.0\n",
       "dtype: float64"
      ]
     },
     "execution_count": 77,
     "metadata": {},
     "output_type": "execute_result"
    }
   ],
   "source": [
    "# the IQR of all the variables which are quantitative and continuous\n",
    "IQR = Q3 - Q1\n",
    "IQR"
   ]
  },
  {
   "cell_type": "code",
   "execution_count": 78,
   "id": "415192c2",
   "metadata": {},
   "outputs": [
    {
     "data": {
      "text/plain": [
       "<AxesSubplot:>"
      ]
     },
     "execution_count": 78,
     "metadata": {},
     "output_type": "execute_result"
    },
    {
     "data": {
      "image/png": "[encoded data removed]",
      "text/plain": [
       "<Figure size 640x480 with 1 Axes>"
      ]
     },
     "metadata": {},
     "output_type": "display_data"
    }
   ],
   "source": [
    "# IQR of all the variables which are quantitative and continuous\n",
    "df[['Experience','CCAvg']].plot(kind='box') "
   ]
  },
  {
   "cell_type": "code",
   "execution_count": 167,
   "id": "d5ef0d8c",
   "metadata": {},
   "outputs": [
    {
     "data": {
      "text/plain": [
       "<AxesSubplot:>"
      ]
     },
     "execution_count": 167,
     "metadata": {},
     "output_type": "execute_result"
    },
    {
     "data": {
      "image/png": "[encoded data removed]",
      "text/plain": [
       "<Figure size 640x480 with 1 Axes>"
      ]
     },
     "metadata": {},
     "output_type": "display_data"
    }
   ],
   "source": [
    "df[['Income','Mortgage']].plot(kind='box')   # Due to variable range splited the chart."
   ]
  },
  {
   "cell_type": "markdown",
   "id": "3ccd24d2",
   "metadata": {},
   "source": [
    "18. Do the higher-income holders spend more on credit cards?"
   ]
  },
  {
   "cell_type": "code",
   "execution_count": 56,
   "id": "8a533db9",
   "metadata": {},
   "outputs": [
    {
     "name": "stdout",
     "output_type": "stream",
     "text": [
      "0.645992591917363\n"
     ]
    }
   ],
   "source": [
    "# The higher-income holders spend more on credit cards as correlation between variable Income and CCAvg is positive (0.646)\n",
    "Correlation = df['Income'].corr(df['CCAvg'])\n",
    "print(Correlation)"
   ]
  },
  {
   "cell_type": "code",
   "execution_count": 57,
   "id": "50facc14",
   "metadata": {},
   "outputs": [
    {
     "data": {
      "text/plain": [
       "<matplotlib.collections.PathCollection at 0x1f172b5bc40>"
      ]
     },
     "execution_count": 57,
     "metadata": {},
     "output_type": "execute_result"
    },
    {
     "data": {
      "image/png": "[encoded data removed]",
      "text/plain": [
       "<Figure size 640x480 with 1 Axes>"
      ]
     },
     "metadata": {},
     "output_type": "display_data"
    }
   ],
   "source": [
    "# The scatter plot indicates spending on credit card increases with income.\n",
    "plt.scatter(df['Income'],df['CCAvg'])"
   ]
  },
  {
   "cell_type": "markdown",
   "id": "91af775e",
   "metadata": {},
   "source": [
    "19. Do customers using bank internet facilities paid higher?"
   ]
  },
  {
   "cell_type": "code",
   "execution_count": 81,
   "id": "96193a25",
   "metadata": {},
   "outputs": [
    {
     "data": {
      "text/plain": [
       "Online\n",
       "0    72.978671\n",
       "1    74.311662\n",
       "Name: Income, dtype: float64"
      ]
     },
     "execution_count": 81,
     "metadata": {},
     "output_type": "execute_result"
    }
   ],
   "source": [
    "# Customers using bank internet facilities paid higher from following analysis:\n",
    "Customer_paid_higher = df.groupby('Online')['Income'].mean().T\n",
    "Customer_paid_higher"
   ]
  },
  {
   "cell_type": "markdown",
   "id": "7d3ba9e9",
   "metadata": {},
   "source": [
    "20. Calculate the Z score of the ‘income’ variable."
   ]
  },
  {
   "cell_type": "code",
   "execution_count": 17,
   "id": "d8d5f4d6",
   "metadata": {},
   "outputs": [
    {
     "data": {
      "text/html": [
       "<div>\n",
       "<style scoped>\n",
       "    .dataframe tbody tr th:only-of-type {\n",
       "        vertical-align: middle;\n",
       "    }\n",
       "\n",
       "    .dataframe tbody tr th {\n",
       "        vertical-align: top;\n",
       "    }\n",
       "\n",
       "    .dataframe thead th {\n",
       "        text-align: right;\n",
       "    }\n",
       "</style>\n",
       "<table border=\"1\" class=\"dataframe\">\n",
       "  <thead>\n",
       "    <tr style=\"text-align: right;\">\n",
       "      <th></th>\n",
       "      <th>Income</th>\n",
       "      <th>Income_z_score</th>\n",
       "    </tr>\n",
       "  </thead>\n",
       "  <tbody>\n",
       "    <tr>\n",
       "      <th>0</th>\n",
       "      <td>49</td>\n",
       "      <td>-0.538229</td>\n",
       "    </tr>\n",
       "    <tr>\n",
       "      <th>1</th>\n",
       "      <td>34</td>\n",
       "      <td>-0.864109</td>\n",
       "    </tr>\n",
       "    <tr>\n",
       "      <th>2</th>\n",
       "      <td>11</td>\n",
       "      <td>-1.363793</td>\n",
       "    </tr>\n",
       "    <tr>\n",
       "      <th>3</th>\n",
       "      <td>100</td>\n",
       "      <td>0.569765</td>\n",
       "    </tr>\n",
       "    <tr>\n",
       "      <th>4</th>\n",
       "      <td>45</td>\n",
       "      <td>-0.625130</td>\n",
       "    </tr>\n",
       "    <tr>\n",
       "      <th>...</th>\n",
       "      <td>...</td>\n",
       "      <td>...</td>\n",
       "    </tr>\n",
       "    <tr>\n",
       "      <th>4995</th>\n",
       "      <td>40</td>\n",
       "      <td>-0.733757</td>\n",
       "    </tr>\n",
       "    <tr>\n",
       "      <th>4996</th>\n",
       "      <td>15</td>\n",
       "      <td>-1.276892</td>\n",
       "    </tr>\n",
       "    <tr>\n",
       "      <th>4997</th>\n",
       "      <td>24</td>\n",
       "      <td>-1.081363</td>\n",
       "    </tr>\n",
       "    <tr>\n",
       "      <th>4998</th>\n",
       "      <td>49</td>\n",
       "      <td>-0.538229</td>\n",
       "    </tr>\n",
       "    <tr>\n",
       "      <th>4999</th>\n",
       "      <td>83</td>\n",
       "      <td>0.200434</td>\n",
       "    </tr>\n",
       "  </tbody>\n",
       "</table>\n",
       "<p>5000 rows × 2 columns</p>\n",
       "</div>"
      ],
      "text/plain": [
       "      Income  Income_z_score\n",
       "0         49       -0.538229\n",
       "1         34       -0.864109\n",
       "2         11       -1.363793\n",
       "3        100        0.569765\n",
       "4         45       -0.625130\n",
       "...      ...             ...\n",
       "4995      40       -0.733757\n",
       "4996      15       -1.276892\n",
       "4997      24       -1.081363\n",
       "4998      49       -0.538229\n",
       "4999      83        0.200434\n",
       "\n",
       "[5000 rows x 2 columns]"
      ]
     },
     "execution_count": 17,
     "metadata": {},
     "output_type": "execute_result"
    }
   ],
   "source": [
    "# The Z score of the 'Income' variable:\n",
    "Inc = df.copy()                                         # All variables added to Inc\n",
    "Inc['Income_z_score'] = stats.zscore(Inc['Income'])     # zscore for each data in Income variable added as 'z_score' to Inc\n",
    "I=Inc[['Income','Income_z_score']]                      # Income and Income_z_score variable added to I     \n",
    "I"
   ]
  },
  {
   "cell_type": "markdown",
   "id": "93ff57a0",
   "metadata": {},
   "source": [
    "Assessment Deliverables and Grading Rubric\n",
    "\n",
    "Required deliverables:\n",
    "● A Jupyter notebook detailing the steps.\n",
    "o For questions 1 to 6, submit a Jupyter notebook with your explanation and solution.\n",
    "o For questions 7 to 20, submit a Jupyter notebook with the steps and solution.\n",
    "\n",
    "Student-facing and faculty rubric:\n",
    "● Total points: 100\n",
    "● 5 points per question.\n",
    "● In question 4, each sub-question will carry 1 point."
   ]
  }
 ],
 "metadata": {
  "kernelspec": {
   "display_name": "Python 3 (ipykernel)",
   "language": "python",
   "name": "python3"
  },
  "language_info": {
   "codemirror_mode": {
    "name": "ipython",
    "version": 3
   },
   "file_extension": ".py",
   "mimetype": "text/x-python",
   "name": "python",
   "nbconvert_exporter": "python",
   "pygments_lexer": "ipython3",
   "version": "3.9.13"
  }
 },
 "nbformat": 4,
 "nbformat_minor": 5
}
